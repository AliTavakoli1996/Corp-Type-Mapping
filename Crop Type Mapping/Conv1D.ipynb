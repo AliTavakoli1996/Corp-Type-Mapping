{
 "cells": [
  {
   "cell_type": "code",
   "execution_count": 6,
   "id": "8802ba07-93bc-47b7-9306-468741a22742",
   "metadata": {},
   "outputs": [],
   "source": [
    "from tensorflow.keras.models import Model\n",
    "from tensorflow.keras.optimizers import SGD\n",
    "import numpy as np\n",
    "from tensorflow.keras.utils import to_categorical\n",
    "from tensorflow.keras.layers import BatchNormalization,Activation, Input, Conv1D,GlobalAveragePooling1D , Dense\n",
    "import tensorflow.keras"
   ]
  },
  {
   "cell_type": "code",
   "execution_count": 2,
   "id": "ea890f49-2f0c-408b-b38c-9c0b7dca4ef4",
   "metadata": {},
   "outputs": [],
   "source": [
    "image=np.load(\"/home/jovyan/private/CropMappingI/preprocessing/out/Site_A/x-2017.npy\")\n",
    "label=np.load(\"/home/jovyan/private/CropMappingI/preprocessing/out/Site_A/y-2017.npy\")\n",
    "image=(image-np.mean(image))/np.std(image)"
   ]
  },
  {
   "cell_type": "code",
   "execution_count": 7,
   "id": "4d7af59e-50a8-4071-b3f8-94463fafe2c8",
   "metadata": {},
   "outputs": [],
   "source": [
    "folds = [0,int(len(label)/5),2*int(len(label)/5),3*int(len(label)/5),4*int(len(label)/5),2885211]\n",
    "i = np.arange(2885211)\n",
    "j = np.arange(folds[0], folds[1])\n",
    "k = np.delete(i,j)\n",
    "\n",
    "\n",
    "images_train = image[k]\n",
    "labels_train = label[k]\n",
    "labels_train=to_categorical(labels_train,3)\n",
    "\n",
    "images_val = image[j]\n",
    "labels_val = label[j]\n",
    "labels_val=to_categorical(labels_val,3)\n"
   ]
  },
  {
   "cell_type": "code",
   "execution_count": 8,
   "id": "52a66b2d-756b-4be1-afe5-db7621057ebc",
   "metadata": {},
   "outputs": [
    {
     "name": "stderr",
     "output_type": "stream",
     "text": [
      "/usr/local/lib/python3.8/dist-packages/keras/optimizers/optimizer_v2/gradient_descent.py:108: UserWarning: The `lr` argument is deprecated, use `learning_rate` instead.\n",
      "  super(SGD, self).__init__(name, **kwargs)\n"
     ]
    }
   ],
   "source": [
    "inputlayer=Input(shape=(23,6))\n",
    "\n",
    "conv0=Conv1D(64,kernel_size=5,strides=1, padding='same')(inputlayer)\n",
    "conv0 = BatchNormalization()(conv0)\n",
    "conv0 = Activation('relu')(conv0)\n",
    "\n",
    "conv1=Conv1D(128,kernel_size=5,strides=1, padding='same')(conv0)\n",
    "conv1 = BatchNormalization()(conv1)\n",
    "conv1 = Activation('relu')(conv1)\n",
    "\n",
    "\n",
    "conv2=Conv1D(128,kernel_size=5,strides=1, padding='same')(conv1)\n",
    "conv2 = BatchNormalization()(conv2)\n",
    "conv2 = Activation('relu')(conv2)\n",
    "\n",
    "conv3=Conv1D(256,kernel_size=5,strides=1, padding='same')(conv2)\n",
    "conv3 = BatchNormalization()(conv3)\n",
    "conv3 = Activation('relu')(conv3)\n",
    "\n",
    "\n",
    "conv4=Conv1D(512,kernel_size=5,strides=1, padding='same')(conv3)\n",
    "conv4 = BatchNormalization()(conv4)\n",
    "conv4 = Activation('relu')(conv4)\n",
    "\n",
    "\n",
    "conv5=Conv1D(1024,kernel_size=5,strides=1, padding='same')(conv4)\n",
    "conv5 = BatchNormalization()(conv5)\n",
    "conv5 = Activation('relu')(conv5)\n",
    "\n",
    "\n",
    "\n",
    "\n",
    "pool= GlobalAveragePooling1D()(conv5)\n",
    "\n",
    "\n",
    "FC = Dense(3)(pool)\n",
    "    \n",
    "out = Activation('softmax',name='softm')(FC)\n",
    "\n",
    "\n",
    "\n",
    "model=tensorflow.keras.models.Model(inputlayer,out)\n",
    "\n",
    "model.compile(optimizer=SGD(lr=0.001, momentum=0.9), loss=\"categorical_crossentropy\" ,metrics=\"accuracy\")\n"
   ]
  },
  {
   "cell_type": "code",
   "execution_count": null,
   "id": "209b4e9d-4917-4df7-9b42-0d29c27db297",
   "metadata": {},
   "outputs": [],
   "source": [
    "\n",
    "from tensorflow.keras import callbacks\n",
    "\n",
    "\n",
    "\n",
    "check_point = callbacks.ModelCheckpoint(\"./save/m-{accuracy:.4f}-{epoch:02d}-{val_accuracy:.4f}.hdf5\",monitor='val_accuracy', verbose=1, save_best_only=True , mode='max')\n",
    "check_point2 = callbacks.ModelCheckpoint(\"./save/m.hdf5\",monitor='accuracy', verbose=1)\n",
    "\n",
    "\n",
    "\n",
    "\n",
    "model.fit(images_train,labels_train, validation_data=(images_val,labels_val),epochs=1000,batch_size=1024, callbacks=[check_point,check_point2], verbose=1,shuffle=True)\n"
   ]
  },
  {
   "cell_type": "code",
   "execution_count": 9,
   "id": "d48193fa-3787-43fc-a423-34918c242df1",
   "metadata": {},
   "outputs": [],
   "source": [
    "image_test=np.load(\"/home/jovyan/private/CropMappingI/preprocessing/out/Site_A/x-2018.npy\")\n",
    "label_test=np.load(\"/home/jovyan/private/CropMappingI/preprocessing/out/Site_A/y-2018.npy\")\n",
    "image_test=(image_test-np.mean(image_test))/np.std(image_test)"
   ]
  },
  {
   "cell_type": "code",
   "execution_count": 11,
   "id": "cff4b498-ae7e-4684-a8f5-63e82440947e",
   "metadata": {},
   "outputs": [],
   "source": [
    "model.load_weights(\"./save/m-0.9487-06-0.9378.hdf5\")"
   ]
  },
  {
   "cell_type": "code",
   "execution_count": 12,
   "id": "61786d8a-2d25-4ee8-ae78-02f8f67d1dee",
   "metadata": {},
   "outputs": [
    {
     "name": "stdout",
     "output_type": "stream",
     "text": [
      "90100/90100 [==============================] - 475s 5ms/step\n"
     ]
    }
   ],
   "source": [
    "predictions=model.predict(image_test)"
   ]
  },
  {
   "cell_type": "code",
   "execution_count": null,
   "id": "75f3e0fa-1c6f-490a-b35a-853fb7e7d4bb",
   "metadata": {},
   "outputs": [],
   "source": []
  }
 ],
 "metadata": {
  "kernelspec": {
   "display_name": "Python",
   "language": "python",
   "name": "python3"
  },
  "language_info": {
   "codemirror_mode": {
    "name": "ipython",
    "version": 3
   },
   "file_extension": ".py",
   "mimetype": "text/x-python",
   "name": "python",
   "nbconvert_exporter": "python",
   "pygments_lexer": "ipython3",
   "version": "3.8.10"
  }
 },
 "nbformat": 4,
 "nbformat_minor": 5
}
